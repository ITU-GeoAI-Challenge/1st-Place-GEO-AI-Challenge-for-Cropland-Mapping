{
 "cells": [
  {
   "cell_type": "code",
   "execution_count": 1,
   "metadata": {
    "id": "kAU3u37XcRhr"
   },
   "outputs": [],
   "source": [
    "import ee\n",
    "import numpy as np\n",
    "import pandas as pd\n",
    "import random\n",
    "import matplotlib.pyplot as plt\n",
    "from tqdm import tqdm\n",
    "\n",
    "import subprocess\n",
    "from joblib import Parallel, delayed\n",
    "import multiprocessing\n",
    "\n",
    "from sklearn.model_selection import StratifiedKFold, train_test_split, StratifiedGroupKFold\n",
    "from sklearn.metrics import accuracy_score\n",
    "from sklearn.ensemble import RandomForestClassifier\n",
    "from iterstrat.ml_stratifiers import MultilabelStratifiedKFold\n",
    "\n",
    "\n",
    "import xgboost as xgb\n",
    "import lightgbm as lgb\n",
    "import catboost as catb"
   ]
  },
  {
   "cell_type": "code",
   "execution_count": 2,
   "metadata": {},
   "outputs": [],
   "source": [
    "pd.set_option('display.max_columns', None)\n",
    "pd.set_option('display.max_rows', None)"
   ]
  },
  {
   "cell_type": "code",
   "execution_count": 3,
   "metadata": {
    "id": "4mHiKwYy4zOH"
   },
   "outputs": [],
   "source": [
    "SEED = 42\n",
    "random.seed(SEED)\n",
    "np.random.seed(SEED)"
   ]
  },
  {
   "cell_type": "code",
   "execution_count": 4,
   "metadata": {},
   "outputs": [],
   "source": [
    "path = './data/'"
   ]
  },
  {
   "cell_type": "code",
   "execution_count": 5,
   "metadata": {
    "colab": {
     "base_uri": "https://localhost:8080/",
     "height": 206
    },
    "id": "zJR66Gmzj9It",
    "outputId": "d0fffa60-48e9-4648-8a7b-00ecef5af7c1"
   },
   "outputs": [
    {
     "data": {
      "text/html": [
       "<div>\n",
       "<style scoped>\n",
       "    .dataframe tbody tr th:only-of-type {\n",
       "        vertical-align: middle;\n",
       "    }\n",
       "\n",
       "    .dataframe tbody tr th {\n",
       "        vertical-align: top;\n",
       "    }\n",
       "\n",
       "    .dataframe thead th {\n",
       "        text-align: right;\n",
       "    }\n",
       "</style>\n",
       "<table border=\"1\" class=\"dataframe\">\n",
       "  <thead>\n",
       "    <tr style=\"text-align: right;\">\n",
       "      <th></th>\n",
       "      <th>ID</th>\n",
       "      <th>Lat</th>\n",
       "      <th>Lon</th>\n",
       "      <th>Target</th>\n",
       "    </tr>\n",
       "  </thead>\n",
       "  <tbody>\n",
       "    <tr>\n",
       "      <th>0</th>\n",
       "      <td>ID_SJ098E7S2SY9</td>\n",
       "      <td>34.162491</td>\n",
       "      <td>70.763668</td>\n",
       "      <td>0</td>\n",
       "    </tr>\n",
       "    <tr>\n",
       "      <th>1</th>\n",
       "      <td>ID_CWCD60FGJJYY</td>\n",
       "      <td>32.075695</td>\n",
       "      <td>48.492047</td>\n",
       "      <td>0</td>\n",
       "    </tr>\n",
       "    <tr>\n",
       "      <th>2</th>\n",
       "      <td>ID_R1XF70RMVGL3</td>\n",
       "      <td>14.542826</td>\n",
       "      <td>33.313483</td>\n",
       "      <td>1</td>\n",
       "    </tr>\n",
       "    <tr>\n",
       "      <th>3</th>\n",
       "      <td>ID_0ZBIDY0PEBVO</td>\n",
       "      <td>14.359480</td>\n",
       "      <td>33.284108</td>\n",
       "      <td>1</td>\n",
       "    </tr>\n",
       "    <tr>\n",
       "      <th>4</th>\n",
       "      <td>ID_C20R2C0AYIT0</td>\n",
       "      <td>14.419128</td>\n",
       "      <td>33.528450</td>\n",
       "      <td>0</td>\n",
       "    </tr>\n",
       "  </tbody>\n",
       "</table>\n",
       "</div>"
      ],
      "text/plain": [
       "                ID        Lat        Lon  Target\n",
       "0  ID_SJ098E7S2SY9  34.162491  70.763668       0\n",
       "1  ID_CWCD60FGJJYY  32.075695  48.492047       0\n",
       "2  ID_R1XF70RMVGL3  14.542826  33.313483       1\n",
       "3  ID_0ZBIDY0PEBVO  14.359480  33.284108       1\n",
       "4  ID_C20R2C0AYIT0  14.419128  33.528450       0"
      ]
     },
     "execution_count": 5,
     "metadata": {},
     "output_type": "execute_result"
    }
   ],
   "source": [
    "# Load files\n",
    "train = pd.read_csv(f'{path}Train.csv')\n",
    "test = pd.read_csv(f'{path}Test.csv')\n",
    "sample_submission = pd.read_csv(f'{path}SampleSubmission.csv')\n",
    "\n",
    "# Preview head of train\n",
    "train.head()"
   ]
  },
  {
   "cell_type": "code",
   "execution_count": 6,
   "metadata": {},
   "outputs": [],
   "source": [
    "lonlat_mapper = {\n",
    "    '34-70': 'Afghanistan',\n",
    "    '32-48': 'Iran',\n",
    "    '14-33': 'Sudan',\n",
    "}"
   ]
  },
  {
   "cell_type": "code",
   "execution_count": 7,
   "metadata": {},
   "outputs": [],
   "source": [
    "train['location'] = train.apply(lambda x: f'{np.int8(x[1])}-{np.int8(x[2])}', axis=1).map(lonlat_mapper)\n",
    "test['location'] = test.apply(lambda x: f'{np.int8(x[1])}-{np.int8(x[2])}', axis=1).map(lonlat_mapper)"
   ]
  },
  {
   "cell_type": "code",
   "execution_count": 8,
   "metadata": {},
   "outputs": [
    {
     "data": {
      "text/html": [
       "<div>\n",
       "<style scoped>\n",
       "    .dataframe tbody tr th:only-of-type {\n",
       "        vertical-align: middle;\n",
       "    }\n",
       "\n",
       "    .dataframe tbody tr th {\n",
       "        vertical-align: top;\n",
       "    }\n",
       "\n",
       "    .dataframe thead th {\n",
       "        text-align: right;\n",
       "    }\n",
       "</style>\n",
       "<table border=\"1\" class=\"dataframe\">\n",
       "  <thead>\n",
       "    <tr style=\"text-align: right;\">\n",
       "      <th></th>\n",
       "      <th>ID</th>\n",
       "      <th>Lat</th>\n",
       "      <th>Lon</th>\n",
       "      <th>Target</th>\n",
       "      <th>location</th>\n",
       "    </tr>\n",
       "  </thead>\n",
       "  <tbody>\n",
       "    <tr>\n",
       "      <th>0</th>\n",
       "      <td>ID_SJ098E7S2SY9</td>\n",
       "      <td>34.162491</td>\n",
       "      <td>70.763668</td>\n",
       "      <td>0</td>\n",
       "      <td>Afghanistan</td>\n",
       "    </tr>\n",
       "    <tr>\n",
       "      <th>1</th>\n",
       "      <td>ID_CWCD60FGJJYY</td>\n",
       "      <td>32.075695</td>\n",
       "      <td>48.492047</td>\n",
       "      <td>0</td>\n",
       "      <td>Iran</td>\n",
       "    </tr>\n",
       "    <tr>\n",
       "      <th>2</th>\n",
       "      <td>ID_R1XF70RMVGL3</td>\n",
       "      <td>14.542826</td>\n",
       "      <td>33.313483</td>\n",
       "      <td>1</td>\n",
       "      <td>Sudan</td>\n",
       "    </tr>\n",
       "    <tr>\n",
       "      <th>3</th>\n",
       "      <td>ID_0ZBIDY0PEBVO</td>\n",
       "      <td>14.359480</td>\n",
       "      <td>33.284108</td>\n",
       "      <td>1</td>\n",
       "      <td>Sudan</td>\n",
       "    </tr>\n",
       "    <tr>\n",
       "      <th>4</th>\n",
       "      <td>ID_C20R2C0AYIT0</td>\n",
       "      <td>14.419128</td>\n",
       "      <td>33.528450</td>\n",
       "      <td>0</td>\n",
       "      <td>Sudan</td>\n",
       "    </tr>\n",
       "  </tbody>\n",
       "</table>\n",
       "</div>"
      ],
      "text/plain": [
       "                ID        Lat        Lon  Target     location\n",
       "0  ID_SJ098E7S2SY9  34.162491  70.763668       0  Afghanistan\n",
       "1  ID_CWCD60FGJJYY  32.075695  48.492047       0         Iran\n",
       "2  ID_R1XF70RMVGL3  14.542826  33.313483       1        Sudan\n",
       "3  ID_0ZBIDY0PEBVO  14.359480  33.284108       1        Sudan\n",
       "4  ID_C20R2C0AYIT0  14.419128  33.528450       0        Sudan"
      ]
     },
     "execution_count": 8,
     "metadata": {},
     "output_type": "execute_result"
    }
   ],
   "source": [
    "train.head()"
   ]
  },
  {
   "cell_type": "code",
   "execution_count": 9,
   "metadata": {
    "colab": {
     "base_uri": "https://localhost:8080/",
     "height": 206
    },
    "id": "anSerA0Ykavp",
    "outputId": "8353c12f-c866-4ea9-8eca-f4095bb751e8"
   },
   "outputs": [
    {
     "data": {
      "text/html": [
       "<div>\n",
       "<style scoped>\n",
       "    .dataframe tbody tr th:only-of-type {\n",
       "        vertical-align: middle;\n",
       "    }\n",
       "\n",
       "    .dataframe tbody tr th {\n",
       "        vertical-align: top;\n",
       "    }\n",
       "\n",
       "    .dataframe thead th {\n",
       "        text-align: right;\n",
       "    }\n",
       "</style>\n",
       "<table border=\"1\" class=\"dataframe\">\n",
       "  <thead>\n",
       "    <tr style=\"text-align: right;\">\n",
       "      <th></th>\n",
       "      <th>ID</th>\n",
       "      <th>Lat</th>\n",
       "      <th>Lon</th>\n",
       "      <th>location</th>\n",
       "    </tr>\n",
       "  </thead>\n",
       "  <tbody>\n",
       "    <tr>\n",
       "      <th>0</th>\n",
       "      <td>ID_9ZLHTVF6NSU7</td>\n",
       "      <td>34.254835</td>\n",
       "      <td>70.348699</td>\n",
       "      <td>Afghanistan</td>\n",
       "    </tr>\n",
       "    <tr>\n",
       "      <th>1</th>\n",
       "      <td>ID_LNN7BFCVEZKA</td>\n",
       "      <td>32.009669</td>\n",
       "      <td>48.535526</td>\n",
       "      <td>Iran</td>\n",
       "    </tr>\n",
       "    <tr>\n",
       "      <th>2</th>\n",
       "      <td>ID_SOYSG7W04UH3</td>\n",
       "      <td>14.431884</td>\n",
       "      <td>33.399991</td>\n",
       "      <td>Sudan</td>\n",
       "    </tr>\n",
       "    <tr>\n",
       "      <th>3</th>\n",
       "      <td>ID_EAP7EXXV8ZDE</td>\n",
       "      <td>14.281866</td>\n",
       "      <td>33.441224</td>\n",
       "      <td>Sudan</td>\n",
       "    </tr>\n",
       "    <tr>\n",
       "      <th>4</th>\n",
       "      <td>ID_QPRX1TUQVGHU</td>\n",
       "      <td>14.399365</td>\n",
       "      <td>33.109566</td>\n",
       "      <td>Sudan</td>\n",
       "    </tr>\n",
       "  </tbody>\n",
       "</table>\n",
       "</div>"
      ],
      "text/plain": [
       "                ID        Lat        Lon     location\n",
       "0  ID_9ZLHTVF6NSU7  34.254835  70.348699  Afghanistan\n",
       "1  ID_LNN7BFCVEZKA  32.009669  48.535526         Iran\n",
       "2  ID_SOYSG7W04UH3  14.431884  33.399991        Sudan\n",
       "3  ID_EAP7EXXV8ZDE  14.281866  33.441224        Sudan\n",
       "4  ID_QPRX1TUQVGHU  14.399365  33.109566        Sudan"
      ]
     },
     "execution_count": 9,
     "metadata": {},
     "output_type": "execute_result"
    }
   ],
   "source": [
    "test.head()"
   ]
  },
  {
   "cell_type": "code",
   "execution_count": 10,
   "metadata": {
    "colab": {
     "base_uri": "https://localhost:8080/",
     "height": 206
    },
    "id": "hpLslStdlLvK",
    "outputId": "2cf29779-422f-41dc-d214-b60a09ea8d3d"
   },
   "outputs": [
    {
     "data": {
      "text/html": [
       "<div>\n",
       "<style scoped>\n",
       "    .dataframe tbody tr th:only-of-type {\n",
       "        vertical-align: middle;\n",
       "    }\n",
       "\n",
       "    .dataframe tbody tr th {\n",
       "        vertical-align: top;\n",
       "    }\n",
       "\n",
       "    .dataframe thead th {\n",
       "        text-align: right;\n",
       "    }\n",
       "</style>\n",
       "<table border=\"1\" class=\"dataframe\">\n",
       "  <thead>\n",
       "    <tr style=\"text-align: right;\">\n",
       "      <th></th>\n",
       "      <th>ID</th>\n",
       "      <th>Target</th>\n",
       "    </tr>\n",
       "  </thead>\n",
       "  <tbody>\n",
       "    <tr>\n",
       "      <th>0</th>\n",
       "      <td>ID_9ZLHTVF6NSU7</td>\n",
       "      <td></td>\n",
       "    </tr>\n",
       "    <tr>\n",
       "      <th>1</th>\n",
       "      <td>ID_LNN7BFCVEZKA</td>\n",
       "      <td></td>\n",
       "    </tr>\n",
       "    <tr>\n",
       "      <th>2</th>\n",
       "      <td>ID_SOYSG7W04UH3</td>\n",
       "      <td></td>\n",
       "    </tr>\n",
       "    <tr>\n",
       "      <th>3</th>\n",
       "      <td>ID_EAP7EXXV8ZDE</td>\n",
       "      <td></td>\n",
       "    </tr>\n",
       "    <tr>\n",
       "      <th>4</th>\n",
       "      <td>ID_QPRX1TUQVGHU</td>\n",
       "      <td></td>\n",
       "    </tr>\n",
       "  </tbody>\n",
       "</table>\n",
       "</div>"
      ],
      "text/plain": [
       "                ID Target\n",
       "0  ID_9ZLHTVF6NSU7       \n",
       "1  ID_LNN7BFCVEZKA       \n",
       "2  ID_SOYSG7W04UH3       \n",
       "3  ID_EAP7EXXV8ZDE       \n",
       "4  ID_QPRX1TUQVGHU       "
      ]
     },
     "execution_count": 10,
     "metadata": {},
     "output_type": "execute_result"
    }
   ],
   "source": [
    "# Preview head of the sample submission\n",
    "sample_submission.head()"
   ]
  },
  {
   "cell_type": "code",
   "execution_count": 11,
   "metadata": {
    "colab": {
     "base_uri": "https://localhost:8080/"
    },
    "id": "svpe_-b2dSzV",
    "outputId": "91afc165-56e5-4544-9872-149c35dfadfe"
   },
   "outputs": [
    {
     "data": {
      "text/html": [
       "<p>To authorize access needed by Earth Engine, open the following\n",
       "        URL in a web browser and follow the instructions:</p>\n",
       "        <p><a href=https://code.earthengine.google.com/client-auth?scopes=https%3A//www.googleapis.com/auth/earthengine%20https%3A//www.googleapis.com/auth/devstorage.full_control&request_id=mrhUXGxXj7vySDzsLIWVG68BevHt0sL3neKmSDxwVWI&tc=mEEfgQF9Op6K2zqvwJyNRGGDlTT0wEvWB1-yoULkQNg&cc=rYxd8E9jOurg7jFK2lebJ5ovgBhHEUZjV2crVQhdBY4>https://code.earthengine.google.com/client-auth?scopes=https%3A//www.googleapis.com/auth/earthengine%20https%3A//www.googleapis.com/auth/devstorage.full_control&request_id=mrhUXGxXj7vySDzsLIWVG68BevHt0sL3neKmSDxwVWI&tc=mEEfgQF9Op6K2zqvwJyNRGGDlTT0wEvWB1-yoULkQNg&cc=rYxd8E9jOurg7jFK2lebJ5ovgBhHEUZjV2crVQhdBY4</a></p>\n",
       "        <p>The authorization workflow will generate a code, which you should paste in the box below.</p>\n",
       "        "
      ],
      "text/plain": [
       "<IPython.core.display.HTML object>"
      ]
     },
     "metadata": {},
     "output_type": "display_data"
    },
    {
     "name": "stdout",
     "output_type": "stream",
     "text": [
      "Enter verification code:  4/1AfJohXmCt6LI_bA_6rsnLUfw4NCtfTx3VXcU14Lx-G9lfXpyUu_u6hIEPsg\n"
     ]
    },
    {
     "name": "stdout",
     "output_type": "stream",
     "text": [
      "\n",
      "Successfully saved authorization token.\n"
     ]
    }
   ],
   "source": [
    "# Get authetication token and sign in to Google Earth Engine\n",
    "ee.Authenticate()"
   ]
  },
  {
   "cell_type": "code",
   "execution_count": 12,
   "metadata": {},
   "outputs": [],
   "source": [
    "ee.Initialize(project='geo-ai-cropland')"
   ]
  },
  {
   "cell_type": "markdown",
   "metadata": {
    "id": "f6JrvuMShYCv"
   },
   "source": [
    "Load Sentinel-2 imagery from Earth Engine and select the df['bands.\n",
    "In the example we use the median value, df['but other options might work as well.\n",
    "It might df['be usefule to apply a cloud mask, to avoid odd values. Please see https://developers.google.com/earth-engine/tutorials/community/sentinel-2-s2cloudless for reference"
   ]
  },
  {
   "cell_type": "markdown",
   "metadata": {
    "id": "CCsnR8lSdumy"
   },
   "source": [
    "Load the training dataset from CSV\n",
    "(make sure the path fits with the location you stored the data) and transform in training points as Earth Engine features."
   ]
  },
  {
   "cell_type": "code",
   "execution_count": 13,
   "metadata": {},
   "outputs": [],
   "source": [
    "# Load the S2 image collection\n",
    "s2_collection = ee.ImageCollection('COPERNICUS/S2_SR_HARMONIZED')\n",
    "\n",
    "# Define the df['bands of interest\n",
    "bands = ['B1', 'B2', 'B3', 'B4', 'B5', 'B6', 'B7', 'B8', 'B8A', 'B9', 'B11', 'B12', 'AOT', 'WVP', 'SCL', 'TCI_R', 'TCI_G', 'TCI_B']"
   ]
  },
  {
   "cell_type": "code",
   "execution_count": 14,
   "metadata": {},
   "outputs": [],
   "source": [
    "CLOUD_FILTER = 10\n",
    "time_maps = {\n",
    "    'Afghanistan': {\n",
    "        'start': '2021-04-01',\n",
    "        'end': '2022-04-30',\n",
    "    },\n",
    "    'Iran': {\n",
    "        'start': '2019-07-01',\n",
    "        'end': '2020-06-30',\n",
    "    },\n",
    "    'Sudan': {\n",
    "        'start': '2019-07-01',\n",
    "        'end': '2020-06-30',\n",
    "    }\n",
    "}\n",
    "\n",
    "def load_data(data):    \n",
    "    all_values = []\n",
    "    dfs = []\n",
    "    for region in tqdm(time_maps.keys()):\n",
    "        df = data[data.location == region]\n",
    "        point_geometries = [ee.Geometry.Point(lon, lat) for lon, lat in zip(df['Lon'], df['Lat'])]\n",
    "\n",
    "        collection = (\n",
    "            s2_collection\n",
    "            .filterDate(time_maps[region]['start'], time_maps[region]['end'])\n",
    "            .filter(ee.Filter.lte('CLOUDY_PIXEL_PERCENTAGE', CLOUD_FILTER))\n",
    "        )\n",
    "\n",
    "        mean_values = (\n",
    "            collection\n",
    "            .select(bands)\n",
    "            .filterBounds(ee.FeatureCollection(point_geometries))\n",
    "            .mean()\n",
    "            .reduceRegions(collection=ee.FeatureCollection(point_geometries), reducer=ee.Reducer.mean(), scale=10, tileScale=2)\n",
    "        )\n",
    "\n",
    "        all_values.append(mean_values)\n",
    "        dfs.append(df)\n",
    "\n",
    "    results = []\n",
    "    for mean_values in all_values:\n",
    "        for feature in tqdm(mean_values.getInfo()['features']):\n",
    "            values = [feature['properties'][band] for band in bands]\n",
    "            results.append(values)\n",
    "\n",
    "    final_df = pd.concat(dfs)\n",
    "    final_df[bands] = results\n",
    "    final_df = final_df.sort_index()\n",
    "\n",
    "\n",
    "    return final_df\n",
    "\n",
    "def load_ts_data(data):\n",
    "    all_values = []\n",
    "    dfs = []\n",
    "    for region in tqdm(time_maps.keys()):\n",
    "        df = data[data.location == region]\n",
    "        point_geometries = [ee.Geometry.Point(lon, lat) for lon, lat in zip(df['Lon'], df['Lat'])]\n",
    "\n",
    "        collection = (\n",
    "            s2_collection\n",
    "            .filterDate(time_maps[region]['start'], time_maps[region]['end'])\n",
    "            .filter(ee.Filter.lte('CLOUDY_PIXEL_PERCENTAGE', CLOUD_FILTER))\n",
    "        )\n",
    "\n",
    "        mean_values = (\n",
    "            collection\n",
    "            .filterBounds(ee.FeatureCollection(point_geometries))\n",
    "            .select(bands)\n",
    "            .toBands()\n",
    "            .reduceRegions(collection=ee.FeatureCollection(point_geometries), reducer=ee.Reducer.mean(), scale=10, tileScale=1)\n",
    "        )\n",
    "\n",
    "        all_values.append(mean_values)\n",
    "        dfs.append(df)\n",
    "\n",
    "    results = {k:[] for k in ['ID'] + bands}\n",
    "    for df, mean_values in zip(dfs, all_values):\n",
    "        for idx, feature in tqdm(zip(df.ID.values, mean_values.getInfo()['features'])):\n",
    "            length = len(feature['properties'].keys()) // len(bands)\n",
    "\n",
    "            results['ID'].extend([idx] * length)\n",
    "            for k, v in feature['properties'].items():\n",
    "                band = '_'.join(k.split('_')[3:])\n",
    "                results[band].append(v)\n",
    "\n",
    "    final_df = pd.DataFrame(results).dropna()\n",
    "\n",
    "    return final_df"
   ]
  },
  {
   "cell_type": "code",
   "execution_count": 15,
   "metadata": {},
   "outputs": [
    {
     "name": "stderr",
     "output_type": "stream",
     "text": [
      "100%|██████████| 3/3 [00:00<00:00, 74.17it/s]\n",
      "100%|██████████| 500/500 [00:00<00:00, 517432.03it/s]\n",
      "100%|██████████| 500/500 [00:00<00:00, 486691.11it/s]\n",
      "100%|██████████| 500/500 [00:00<00:00, 477384.93it/s]\n",
      "100%|██████████| 3/3 [00:00<00:00, 24.02it/s]\n",
      "100%|██████████| 500/500 [00:00<00:00, 522850.16it/s]\n",
      "100%|██████████| 500/500 [00:00<00:00, 497191.09it/s]\n",
      "100%|██████████| 500/500 [00:00<00:00, 492983.54it/s]"
     ]
    },
    {
     "name": "stdout",
     "output_type": "stream",
     "text": [
      "CPU times: user 517 ms, sys: 3.7 ms, total: 521 ms\n",
      "Wall time: 4min 21s\n"
     ]
    },
    {
     "name": "stderr",
     "output_type": "stream",
     "text": [
      "\n"
     ]
    }
   ],
   "source": [
    "%%time\n",
    "train_data = load_data(train)\n",
    "test_data = load_data(test)"
   ]
  },
  {
   "cell_type": "code",
   "execution_count": 16,
   "metadata": {},
   "outputs": [
    {
     "name": "stderr",
     "output_type": "stream",
     "text": [
      "100%|██████████| 3/3 [00:00<00:00, 86.48it/s]\n",
      "500it [00:00, 2540.77it/s]\n",
      "500it [00:00, 1068.97it/s]\n",
      "500it [00:00, 2144.18it/s]\n",
      "100%|██████████| 3/3 [00:00<00:00, 81.59it/s]\n",
      "500it [00:00, 2507.19it/s]\n",
      "500it [00:00, 961.09it/s]\n",
      "500it [00:00, 2156.57it/s]\n"
     ]
    },
    {
     "name": "stdout",
     "output_type": "stream",
     "text": [
      "CPU times: user 5.4 s, sys: 409 ms, total: 5.81 s\n",
      "Wall time: 1min 38s\n"
     ]
    }
   ],
   "source": [
    "%%time\n",
    "train_ts_data = load_ts_data(train)\n",
    "test_ts_data = load_ts_data(test)"
   ]
  },
  {
   "cell_type": "code",
   "execution_count": 18,
   "metadata": {},
   "outputs": [],
   "source": [
    "train_data.to_csv('data/train_data.csv', index=False)\n",
    "test_data.to_csv('data/test_data.csv', index=False)\n",
    "\n",
    "train_ts_data.to_csv('data/train_ts_data.csv', index=False)\n",
    "test_ts_data.to_csv('data/test_ts_data.csv', index=False)"
   ]
  },
  {
   "cell_type": "code",
   "execution_count": null,
   "metadata": {},
   "outputs": [],
   "source": []
  }
 ],
 "metadata": {
  "colab": {
   "provenance": []
  },
  "kernelspec": {
   "display_name": "Python 3 (ipykernel)",
   "language": "python",
   "name": "python3"
  },
  "language_info": {
   "codemirror_mode": {
    "name": "ipython",
    "version": 3
   },
   "file_extension": ".py",
   "mimetype": "text/x-python",
   "name": "python",
   "nbconvert_exporter": "python",
   "pygments_lexer": "ipython3",
   "version": "3.8.10"
  }
 },
 "nbformat": 4,
 "nbformat_minor": 4
}
